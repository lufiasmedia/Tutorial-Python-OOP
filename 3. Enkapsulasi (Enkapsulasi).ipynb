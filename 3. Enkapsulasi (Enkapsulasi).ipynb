{
 "cells": [
  {
   "cell_type": "markdown",
   "metadata": {},
   "source": [
    "<h1 class=\"f1 mv1\">Python: Access Modifiers (Atau Enkapsulasi)</h1>\n",
    "<img src=\"img/cover.webp\" alt=\" \" width=\"300\" height=\"600\" align=\"left\"/>\n",
    "<br>\n",
    "<br>\n",
    "<br>\n",
    "<br>\n",
    "<br>\n",
    "<br>\n",
    "<br>\n",
    "<br>\n",
    "<br>\n",
    "<br>\n",
    "<br>\n",
    "<br>\n",
    "<br>\n",
    "Access Modifiers adalah sebuah konsep di dalam pemrograman berorientasi objek <br>dimana kita bisa mengatur hak akses suatu atribut dan fungsi pada sebuah class. <br>Konsep ini juga biasa disebut sebagai enkapsulasi, <br>di mana kita akan mendefinisikan mana atribut atau fungsi yang boleh diakses secara terbuka, <br>mana yang bisa diakses secara terbatas, atau mana yang hanya bisa diakses oleh internal kelas alias privat.\n",
    "<h2 id=\"jenis-access-modifiers-pada-python\">Jenis Access Modifiers Pada Python</h2>\n",
    "<p>Sama seperti bahasa pemrograman berbasis objek lainnya  \n",
    "    <br>semisal java, c++, php, dan lain-lain, <br>python juga mendukung fitur access modifiers.</p>\n",
    "<p>Access modifiers yang tersedia di dalam python ada 3:</p>\n",
    "<ol>\n",
    "<li>Public</li>\n",
    "<li>Protected</li>\n",
    "<li>dan Private</li>\n",
    "</ol>\n",
    "<p>&nbsp;</p>\n",
    "<img src=\"img/enkapsulasi.svg\" alt=\" \" width=\"400\" height=\"800\" align=\"left\"/>\n",
    "\n",
    "<br>\n",
    "<br>\n",
    "<br>\n",
    "<br>\n",
    "<br>\n",
    "<br>\n",
    "<br>\n",
    "<br>\n",
    "<br>\n",
    "<br>\n",
    "<br>\n",
    "<br>\n",
    "<br>\n",
    "<br>\n",
    "<br>\n",
    "<br>\n",
    "<br>\n",
    "<h2 >Public Access Modifier</h2>\n",
    "<p>Variabel atau atribut yang memiliki hak akses publik bisa diakses dari mana saja <br>baik dari luar kelas mau pun dari dalam kelas.</p>\n",
    "<p>Perhatikan contoh berikut:</p>\n",
    "</div>"
   ]
  },
  {
   "cell_type": "code",
   "execution_count": 35,
   "metadata": {},
   "outputs": [],
   "source": [
    "class Segitiga:\n",
    "    def __init__(self, alas, tinggi):\n",
    "        self.alas = alas\n",
    "        self.tinggi = tinggi\n",
    "        self.luas = 0.5 * alas * tinggi "
   ]
  },
  {
   "cell_type": "markdown",
   "metadata": {},
   "source": [
    "Pada contoh di atas, kita membuat sebuah kelas dengan nama Segitiga. <br>Kelas tersebut menerima dua buah parameter: yaitu alas dan tinggi.\n",
    "<br>Kemudian ia juga memiliki 3 buah atribut (alas, tinggi, dan luas) <br>yang mana semuanya memiliki hak akses publik.\n",
    "<br>Untuk membuktikannya, mari kita coba akses ke-3 atribut di atas dari luar kelas:"
   ]
  },
  {
   "cell_type": "code",
   "execution_count": 36,
   "metadata": {},
   "outputs": [
    {
     "name": "stdout",
     "output_type": "stream",
     "text": [
      "alas: 100\n",
      "tinggi: 80\n",
      "luas: 4000.0\n"
     ]
    }
   ],
   "source": [
    "segitiga_besar = Segitiga(100, 80)\n",
    "# akses variabel alas, tinggi, dan luas dari luar kelas\n",
    "print('alas:', segitiga_besar.alas)\n",
    "print('tinggi:', segitiga_besar.tinggi)\n",
    "print('luas:', segitiga_besar.luas)"
   ]
  },
  {
   "cell_type": "markdown",
   "metadata": {},
   "source": [
    "<h2 >Protected Access Modifier</h2>\n",
    "Variabel atau atribut yang memiliki hak akses protected <br>hanya bisa diakses secara terbatas oleh dirinya sendiri (yaitu di dalam internal kelas), <br>dan juga dari kelas turunannya.\n",
    "<p>Mari kita mencoba mempraktikkannya.</p>\n",
    "<p>Untuk mendefinisikan atribut dengan hak akses&nbsp;<em>protected</em>, kita&nbsp;<strong>harus</strong>&nbsp;menggunakan prefix underscore&nbsp;<code>_</code>&nbsp;sebelum nama variabel.</p>"
   ]
  },
  {
   "cell_type": "code",
   "execution_count": 37,
   "metadata": {},
   "outputs": [],
   "source": [
    "class Mobil:\n",
    "    def __init__(self, merk):\n",
    "        self._merk = merk"
   ]
  },
  {
   "cell_type": "markdown",
   "metadata": {},
   "source": [
    "Pada kode program di atas, kita membuat sebuah kelas bernama <font color=\"red\">Mobil</font>. <br>Dan di dalam kelas tersebut, kita mendefinisikan satu buah atribut bernama <font color=\"red\">_merk</font>, <br>yang mana hak akses dari atribut tersebut adalah protected karena nama variabelnya diawali oleh underscore (<font color=\"red\">_</font>).\n",
    "\n",
    "Mari kita coba akses dari luar kelas:"
   ]
  },
  {
   "cell_type": "code",
   "execution_count": 9,
   "metadata": {},
   "outputs": [
    {
     "name": "stdout",
     "output_type": "stream",
     "text": [
      "Merk: Toyota\n"
     ]
    }
   ],
   "source": [
    "sedan = Mobil('Toyota')\n",
    "\n",
    "# tampilkan _merk dari luar kelas\n",
    "print('Merk:',sedan._merk)"
   ]
  },
  {
   "cell_type": "markdown",
   "metadata": {},
   "source": [
    "Kita masih bisa mengakses atribut _merk dari luar kelas, <br>karena hal ini hanya bersifat convention alias adat atau kebiasaan saja yang harus disepakati oleh programmer. <br> Di mana jika suatu atribut diawali oleh <font color=\"red\">_</font>, <br>maka ia harusnya tidak boleh diakses kecuali dari internal kelas tersebut <br>atau dari kelas yang mewarisinya.\n",
    "\n",
    "Yang harusnya kita lakukan adalah: mengakses atribut protected hanya dari kelas internal atau dari kelas turunan, <br>perhatikan contoh berikut:"
   ]
  },
  {
   "cell_type": "code",
   "execution_count": 38,
   "metadata": {},
   "outputs": [],
   "source": [
    "class Mobil:\n",
    "    def __init__(self, merk):\n",
    "        self._merk = merk\n",
    "\n",
    "class MobilBalap(Mobil):\n",
    "    def __init__(self, merk, total_gear):\n",
    "        super().__init__(merk)\n",
    "        self._total_gear = total_gear\n",
    "\n",
    "    def pamer(self):\n",
    "        # akses _merk dari subclass\n",
    "        print(\n",
    "            'Ini mobil',self._merk, \n",
    "            'dengan total gear', self._total_gear\n",
    "        )"
   ]
  },
  {
   "cell_type": "markdown",
   "metadata": {},
   "source": [
    "Bikin objek dari kelas MobilBalap:"
   ]
  },
  {
   "cell_type": "code",
   "execution_count": 11,
   "metadata": {},
   "outputs": [
    {
     "name": "stdout",
     "output_type": "stream",
     "text": [
      "Ini mobil Ferrari dengan total gear 8\n"
     ]
    }
   ],
   "source": [
    "ferrari = MobilBalap('Ferrari', 8)\n",
    "ferrari.pamer()"
   ]
  },
  {
   "cell_type": "markdown",
   "metadata": {},
   "source": [
    "<h2 id=\"private-access-modifier\">Private Access Modifier</h2>\n",
    "<p>Modifier selanjutnya adalah&nbsp;<em>private</em>. <br>Setiap variabel di dalam suatu kelas yang memiliki hak akses&nbsp;<em>private</em>&nbsp;<br>maka ia&nbsp;<strong>hanya bisa diakses</strong>&nbsp;di dalam kelas tersebut. <br>Tidak bisa diakses dari luar bahkan dari kelas yang mewarisinya.</p>\n",
    "<p>Untuk membuat sebuah atribut menjadi&nbsp;<em>private</em>, <br>kita&nbsp;<strong>harus</strong>&nbsp;menambahkan dua buah underscore sebagai&nbsp;<em>prefix</em>&nbsp;nama atribut.</p><br>\n",
    "Perhatikan contoh berikut:"
   ]
  },
  {
   "cell_type": "code",
   "execution_count": 13,
   "metadata": {},
   "outputs": [],
   "source": [
    "class Mobil:\n",
    "    def __init__(self, merk):\n",
    "        self.__merk = merk"
   ]
  },
  {
   "cell_type": "markdown",
   "metadata": {},
   "source": [
    "<p>Pad kode di atas, kita telah membuat sebuah atribut dengan nama&nbsp;<span style=\"color: red;\">__merk</span>. <br>Dan karena nama tersebut diawali dua buah underscore, <br>maka ia tidak bisa diakses kecuali dari dalam kelas&nbsp;<span style=\"color: red;\">Mobil</span>&nbsp;saja.</p>\n",
    "<p>Mari kita buktikan:</p>"
   ]
  },
  {
   "cell_type": "code",
   "execution_count": 22,
   "metadata": {},
   "outputs": [
    {
     "ename": "TypeError",
     "evalue": "'>' not supported between instances of 'str' and 'int'",
     "output_type": "error",
     "traceback": [
      "\u001b[1;31m----------------------------------------------------------------------\u001b[0m",
      "\u001b[1;31mTypeError\u001b[0m                            Traceback (most recent call last)",
      "\u001b[1;32m<ipython-input-22-5d0a7abbc70c>\u001b[0m in \u001b[0;36m<module>\u001b[1;34m\u001b[0m\n\u001b[1;32m----> 1\u001b[1;33m \u001b[0mjip\u001b[0m \u001b[1;33m=\u001b[0m \u001b[0mMobil\u001b[0m\u001b[1;33m(\u001b[0m\u001b[1;34m'Jeep'\u001b[0m\u001b[1;33m)\u001b[0m\u001b[1;33m\u001b[0m\u001b[1;33m\u001b[0m\u001b[0m\n\u001b[0m\u001b[0;32m      2\u001b[0m \u001b[0mprint\u001b[0m\u001b[1;33m(\u001b[0m\u001b[1;34mf'Merk: {jip.__merk}'\u001b[0m\u001b[1;33m)\u001b[0m\u001b[1;33m\u001b[0m\u001b[1;33m\u001b[0m\u001b[0m\n",
      "\u001b[1;32m<ipython-input-21-5852165d6f83>\u001b[0m in \u001b[0;36m__init__\u001b[1;34m(self, tahun)\u001b[0m\n\u001b[0;32m      1\u001b[0m \u001b[1;32mclass\u001b[0m \u001b[0mMobil\u001b[0m\u001b[1;33m:\u001b[0m\u001b[1;33m\u001b[0m\u001b[1;33m\u001b[0m\u001b[0m\n\u001b[0;32m      2\u001b[0m     \u001b[1;32mdef\u001b[0m \u001b[0m__init__\u001b[0m\u001b[1;33m(\u001b[0m\u001b[0mself\u001b[0m\u001b[1;33m,\u001b[0m \u001b[0mtahun\u001b[0m\u001b[1;33m)\u001b[0m\u001b[1;33m:\u001b[0m\u001b[1;33m\u001b[0m\u001b[1;33m\u001b[0m\u001b[0m\n\u001b[1;32m----> 3\u001b[1;33m         \u001b[0mself\u001b[0m\u001b[1;33m.\u001b[0m\u001b[0mtahun\u001b[0m \u001b[1;33m=\u001b[0m \u001b[0mtahun\u001b[0m\u001b[1;33m\u001b[0m\u001b[1;33m\u001b[0m\u001b[0m\n\u001b[0m\u001b[0;32m      4\u001b[0m \u001b[1;33m\u001b[0m\u001b[0m\n\u001b[0;32m      5\u001b[0m     \u001b[1;33m@\u001b[0m\u001b[0mproperty\u001b[0m\u001b[1;33m\u001b[0m\u001b[1;33m\u001b[0m\u001b[0m\n",
      "\u001b[1;32m<ipython-input-21-5852165d6f83>\u001b[0m in \u001b[0;36mtahun\u001b[1;34m(self, tahun)\u001b[0m\n\u001b[0;32m      9\u001b[0m     \u001b[1;33m@\u001b[0m\u001b[0mtahun\u001b[0m\u001b[1;33m.\u001b[0m\u001b[0msetter\u001b[0m\u001b[1;33m\u001b[0m\u001b[1;33m\u001b[0m\u001b[0m\n\u001b[0;32m     10\u001b[0m     \u001b[1;32mdef\u001b[0m \u001b[0mtahun\u001b[0m\u001b[1;33m(\u001b[0m\u001b[0mself\u001b[0m\u001b[1;33m,\u001b[0m \u001b[0mtahun\u001b[0m\u001b[1;33m)\u001b[0m\u001b[1;33m:\u001b[0m\u001b[1;33m\u001b[0m\u001b[1;33m\u001b[0m\u001b[0m\n\u001b[1;32m---> 11\u001b[1;33m         \u001b[1;32mif\u001b[0m \u001b[0mtahun\u001b[0m \u001b[1;33m>\u001b[0m \u001b[1;36m2021\u001b[0m\u001b[1;33m:\u001b[0m\u001b[1;33m\u001b[0m\u001b[1;33m\u001b[0m\u001b[0m\n\u001b[0m\u001b[0;32m     12\u001b[0m             \u001b[0mself\u001b[0m\u001b[1;33m.\u001b[0m\u001b[0m__tahun\u001b[0m \u001b[1;33m=\u001b[0m \u001b[1;36m2021\u001b[0m\u001b[1;33m\u001b[0m\u001b[1;33m\u001b[0m\u001b[0m\n\u001b[0;32m     13\u001b[0m         \u001b[1;32melif\u001b[0m \u001b[0mtahun\u001b[0m \u001b[1;33m<\u001b[0m \u001b[1;36m1990\u001b[0m\u001b[1;33m:\u001b[0m\u001b[1;33m\u001b[0m\u001b[1;33m\u001b[0m\u001b[0m\n",
      "\u001b[1;31mTypeError\u001b[0m: '>' not supported between instances of 'str' and 'int'"
     ]
    }
   ],
   "source": [
    "jip = Mobil('Jeep')\n",
    "print(f'Merk: {jip.__merk}')"
   ]
  },
  {
   "cell_type": "markdown",
   "metadata": {},
   "source": [
    "Kita akan mendapatkan sebuah error sebagai berikut:\n",
    "<code class=\"language-py3\" data-lang=\"py3\"><span style=\"color:#c00;font-weight:bold\">AttributeError</span><span style=\"color:#000;font-weight:bold\">:</span> <span style=\"color:#4e9a06\">'Mobil'</span> <span style=\"color:#204a87\">object</span> <span style=\"color:#000\">has</span> <span style=\"color:#000\">no</span> <span style=\"color:#000\">attribute</span> <span style=\"color:#4e9a06\">'__merk'</span>\n",
    "</code>\n",
    "Tapi jika kita ubah kodenya menjadi seperti ini:"
   ]
  },
  {
   "cell_type": "code",
   "execution_count": 17,
   "metadata": {},
   "outputs": [
    {
     "name": "stdout",
     "output_type": "stream",
     "text": [
      "Merk: Jeep\n"
     ]
    }
   ],
   "source": [
    "class Mobil:\n",
    "    def __init__(self, merk):\n",
    "        self.__merk = merk\n",
    "\n",
    "    def tampilkan_merk(self):\n",
    "        print('Merk:', self.__merk)\n",
    "\n",
    "jip = Mobil('Jeep')\n",
    "jip.tampilkan_merk()"
   ]
  },
  {
   "cell_type": "markdown",
   "metadata": {},
   "source": [
    "-----------------------------------------------------------------------------------------------------------------------"
   ]
  },
  {
   "cell_type": "markdown",
   "metadata": {},
   "source": [
    "<h2 id=\"accessor-mutator\">Accessor Mutator</h2>\n",
    "<p>Selanjutnya kita bisa membuat accessor dan mutator atau getter dan setter pada suatu kelas di python.</p>\n",
    "<p>Untuk apa accessor dan mutator? Ia adalah sebuah fungsi yang akan dieksekusi ketika kita mengakses (aksesor) suatu atribut pada suatu kelas, atau fungsi yang dieksekusi ketika hendak mengatur (mutator) suatu atribut pada suatu kelas.</p>\n",
    "<p>Untuk mendefinisikan accessor (getter), kita perlu mendefinisikan decorator&nbsp;<font color=\"blue\">@property</font>&nbsp;sebelum nama fungsi.</p>\n",
    "<p>Sedangkan untuk mengatur mutator (setter), kita perlu mendefinisikan descriptor&nbsp;<font color=\"blue\">@&lt;nama-atribut&gt;.setter</font>.</p>\n",
    "<p>Perhatikan contoh berikut:</p>"
   ]
  },
  {
   "cell_type": "code",
   "execution_count": 21,
   "metadata": {},
   "outputs": [],
   "source": [
    "class Mobil:\n",
    "    def __init__(self, tahun):\n",
    "        self.tahun = tahun\n",
    "\n",
    "    @property\n",
    "    def tahun(self):\n",
    "        return self.__tahun\n",
    "\n",
    "    @tahun.setter\n",
    "    def tahun(self, tahun):\n",
    "        if tahun > 2021:\n",
    "            self.__tahun = 2021\n",
    "        elif tahun < 1990:\n",
    "            self.__tahun = 1990\n",
    "        else:\n",
    "            self.__tahun = tahun"
   ]
  },
  {
   "cell_type": "markdown",
   "metadata": {},
   "source": [
    "<p>Ketika kita nanti mengakses atribut&nbsp;<span style=\"color: bule;\">tahun&nbsp;(tanpa underscore), maka fungsi&nbsp;<span style=\"color: bule;\">tahun()&nbsp;yang pertama akan dieksekusi.</span></span></p>\n",
    "<p>Sedangkan jika kita mengisi / mengubah / memberi nilai pada atribut&nbsp;<span style=\"color: bule;\">tahun&nbsp;(tanpa underscore), maka yang dieksekusi adalah fungsi&nbsp;<span style=\"color: bule;\">tahun()&nbsp;yang kedua.</span></span></p>\n",
    "<p>Mari kita coba kode program berikut:</p>"
   ]
  },
  {
   "cell_type": "code",
   "execution_count": 24,
   "metadata": {},
   "outputs": [
    {
     "name": "stdout",
     "output_type": "stream",
     "text": [
      "Mobil ini dibuat tahun 2021\n"
     ]
    }
   ],
   "source": [
    "sedan = Mobil(2200)\n",
    "print('Mobil ini dibuat tahun',sedan.tahun)"
   ]
  },
  {
   "cell_type": "markdown",
   "metadata": {},
   "source": [
    "<p>Kode program di atas akan menampilkan tahun dari sedan yang sudah melalui&nbsp;<font color=\"blue\" >if-else</font>&nbsp;sebelumnya. Sehingga jika kita memberikan nilai&nbsp;<font color=\"blue\">tahun</font>&nbsp;yang lebih dari tahun&nbsp;<font color=\"blue\">2021</font>, yang tersimpan tetaplah tahun&nbsp;<font color=\"blue\">2021</font>.</p>"
   ]
  },
  {
   "cell_type": "markdown",
   "metadata": {},
   "source": [
    "<p>Sedangkan jika kita mengakses atribut aslinya yaitu&nbsp;<font  color=\"red\">__tahun</font>, kita akan mendapatkan error karena atribut tersebut bersifat&nbsp;<em>private</em>.</p>"
   ]
  },
  {
   "cell_type": "code",
   "execution_count": 27,
   "metadata": {},
   "outputs": [
    {
     "ename": "AttributeError",
     "evalue": "'Mobil' object has no attribute '__tahun'",
     "output_type": "error",
     "traceback": [
      "\u001b[1;31m----------------------------------------------------------------------\u001b[0m",
      "\u001b[1;31mAttributeError\u001b[0m                       Traceback (most recent call last)",
      "\u001b[1;32m<ipython-input-27-af4a8df6a741>\u001b[0m in \u001b[0;36m<module>\u001b[1;34m\u001b[0m\n\u001b[1;32m----> 1\u001b[1;33m \u001b[0mprint\u001b[0m\u001b[1;33m(\u001b[0m\u001b[1;34m'Mobil ini dibuat tahun'\u001b[0m\u001b[1;33m,\u001b[0m\u001b[0msedan\u001b[0m\u001b[1;33m.\u001b[0m\u001b[0m__tahun\u001b[0m\u001b[1;33m)\u001b[0m\u001b[1;33m\u001b[0m\u001b[1;33m\u001b[0m\u001b[0m\n\u001b[0m",
      "\u001b[1;31mAttributeError\u001b[0m: 'Mobil' object has no attribute '__tahun'"
     ]
    }
   ],
   "source": [
    "print('Mobil ini dibuat tahun',sedan.__tahun)"
   ]
  },
  {
   "cell_type": "markdown",
   "metadata": {},
   "source": [
    "Akan menampilkan error seperti berikut\n",
    "<code class=\"language-py3\" data-lang=\"py3\"><span style=\"color:#c00;font-weight:bold\">AttributeError</span><span style=\"color:#000;font-weight:bold\">:</span> <span style=\"color:#4e9a06\">'Mobil'</span> <span style=\"color:#204a87\">object</span> <span style=\"color:#000\">has</span> <span style=\"color:#000\">no</span> <span style=\"color:#000\">attribute</span> <span style=\"color:#4e9a06\">'__tahun'</span>\n",
    "</code>"
   ]
  },
  {
   "cell_type": "markdown",
   "metadata": {},
   "source": [
    "Selanjutnya mari kita coba ubah atribut tahun seperti berikut:"
   ]
  },
  {
   "cell_type": "code",
   "execution_count": 30,
   "metadata": {},
   "outputs": [
    {
     "name": "stdout",
     "output_type": "stream",
     "text": [
      "Mobil ini keluaran 1990\n"
     ]
    }
   ],
   "source": [
    "sedan = Mobil(2000)\n",
    "sedan.tahun = 1800\n",
    "print('Mobil ini keluaran',sedan.tahun)"
   ]
  },
  {
   "cell_type": "markdown",
   "metadata": {},
   "source": [
    "<p>Lihat, kita mengubah tahun menjadi&nbsp;<font color=\"green\">1800</font>&nbsp;akan tetapi yang tersimpan adalah&nbsp;<font color=\"green\">1990</font>. <br>Itu terjadi karena ketika kita mengubah atribut&nbsp;<font color=\"green\">tahun</font>, <br>sistem masih memanggil terlebih dahulu fungsi setter&nbsp;<font color=\"green\">tahun()</font></p>"
   ]
  },
  {
   "cell_type": "markdown",
   "metadata": {},
   "source": [
    "<h2 id=\"menggabungkan-public-protected-dan-private\">Menggabungkan Public, Protected, dan Private</h2>\n",
    "<p>Selain itu, kita juga bisa menggunakan 3 buah modifiers sekaligus dalam satu kelas, <br>perhatikan contoh berikut:</p>"
   ]
  },
  {
   "cell_type": "code",
   "execution_count": 33,
   "metadata": {},
   "outputs": [],
   "source": [
    "class SebuahKelas:\n",
    "    def __init__(self):\n",
    "        self.publik = 'Atribut Publik'\n",
    "        self._protected = 'Atribut Protected'\n",
    "        self.__privat = 'Atribut Privat'"
   ]
  },
  {
   "cell_type": "markdown",
   "metadata": {},
   "source": [
    "<p>Pada contoh di atas kita memiliki 3 buah atribut:</p>\n",
    "<ol>\n",
    "<li>Atribut&nbsp;<font color=\"blue\">publik</font>&nbsp;dengan modifier&nbsp;<em>public</em></li>\n",
    "<li>Atribut&nbsp;<font color=\"blue\">_protected</font>&nbsp;dengan modifier&nbsp;<em>protected</em></li>\n",
    "<li>Dan atribut&nbsp;<font color=\"blue\">__privat</font>&nbsp;dengan modifier&nbsp;<em>private</em></li>\n",
    "</ol>"
   ]
  },
  {
   "cell_type": "markdown",
   "metadata": {},
   "source": [
    "<h2 id=\"kesimpulan\">Kesimpulan</h2>\n",
    "<p>Dalam pemrograman python, kita bisa memanfaatkan fitur access modifier untuk mengenkapsulasi sebuah kode program. Alias mengatur mana atribut yang boleh diakses dari luar, dan mana atribut yang hanya konsumsi internal.</p>\n",
    "<p>Sayangnya, kelemahan&nbsp;<em>access modifier</em>&nbsp;dalam python adalah:</p>\n",
    "<ul>\n",
    "<li>Tidak ada atribut yang benar-benar&nbsp;<em>public</em>&nbsp;atau&nbsp;<em>protected</em>. Selama sebuah variabel tidak diawali dua buah&nbsp;<em>underscore</em>, maka ia bisa diakses dari mana pun.</li>\n",
    "<li>Hal tersebut menjadikan konsep &ldquo;protected&rdquo; modifier hanyalah sebuah&nbsp;<em>convention</em>&nbsp;atau kebiasaan saja, di mana kalau kita mendefinisikan sebuah atribut yang diawali&nbsp;<strong>satu buah underscore</strong>, maka kita seharusnya tidak mengakses atribut tersebut kecuali dari dalam kelas itu sendiri atau dari kelas turunannya</li>\n",
    "</ul>"
   ]
  },
  {
   "cell_type": "code",
   "execution_count": null,
   "metadata": {},
   "outputs": [],
   "source": []
  }
 ],
 "metadata": {
  "kernelspec": {
   "display_name": "Python 3",
   "language": "python",
   "name": "python3"
  },
  "language_info": {
   "codemirror_mode": {
    "name": "ipython",
    "version": 3
   },
   "file_extension": ".py",
   "mimetype": "text/x-python",
   "name": "python",
   "nbconvert_exporter": "python",
   "pygments_lexer": "ipython3",
   "version": "3.7.6"
  }
 },
 "nbformat": 4,
 "nbformat_minor": 4
}
