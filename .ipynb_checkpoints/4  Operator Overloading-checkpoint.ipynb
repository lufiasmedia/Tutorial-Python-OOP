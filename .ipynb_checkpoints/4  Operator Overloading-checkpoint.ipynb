{
 "cells": [
  {
   "cell_type": "markdown",
   "metadata": {},
   "source": [
    "<h1 id=\"pengertian-overloading\">Pengertian Overloading</h1>\n",
    "<h1><img src=\"img/cover (1).webp\" alt=\" \" width=\"300\" height=\"600\" align=\"left\"/></h1>\n",
    "<br>\n",
    "<br>\n",
    "<br>\n",
    "<br>\n",
    "<br>\n",
    "<br>\n",
    "<br>\n",
    "<br>\n",
    "<br>\n",
    "<br>\n",
    "<p>Overloading &ndash;dalam dunia pemrograman&ndash; adalah teknik untuk mengatur berbagai perilaku dari suatu fungsi berdasarkan dengan parameter yang diterimanya, atau perilaku objek berdasarkan dengan operator yang sedang dioperasikan&nbsp;. Satu fungsi atau satu objek bisa memiliki perilaku yang berbeda-beda tergantung dengan kondisi yang ia terima.</p>\n",
    "<p>Pada pertemuan ini, kita akan lebih fokus terhadap operator overloading.</p>\n",
    "<h2 id=\"apa-itu-operator-overloading\">Apa itu Operator Overloading?</h2>\n",
    "<p>Operator overloading adalah teknik di mana kita akan mengatur atau mendefinisikan perilaku sebuah kelas (yang kita buat), bagaimana ia akan berinteraksi dengan berbagai macam operator yang berbeda.</p>\n",
    "<p>Kita ambil contoh operator&nbsp;<font color=\"blue\">+</font>.</p>\n",
    "<p>Operator&nbsp;<font color=\"blue\">+</font>&nbsp;di dalam python memiliki lebih dari satu peran tergantung tipe data dari operan yang diterima.</p>\n",
    "<p>Misal kita operasikan operator&nbsp;<font color=\"blue\">+</font>&nbsp;terhadap nilai&nbsp;<font color=\"blue\">int</font>, ia akan melakukan operasi penjumlahan.</p>\n",
    "<p>Contoh:</p>"
   ]
  },
  {
   "cell_type": "code",
   "execution_count": 2,
   "metadata": {},
   "outputs": [
    {
     "data": {
      "text/plain": [
       "30"
      ]
     },
     "execution_count": 2,
     "metadata": {},
     "output_type": "execute_result"
    }
   ],
   "source": [
    "10 + 20"
   ]
  },
  {
   "cell_type": "markdown",
   "metadata": {},
   "source": [
    "Dan jika kita operasikan terhadap dua buah string atau lebih, <br>ia akan melakukan operasi “penggabungan”.\n",
    "<br>Perhatikan contoh berikut:"
   ]
  },
  {
   "cell_type": "code",
   "execution_count": 3,
   "metadata": {},
   "outputs": [
    {
     "data": {
      "text/plain": [
       "'Indonesia'"
      ]
     },
     "execution_count": 3,
     "metadata": {},
     "output_type": "execute_result"
    }
   ],
   "source": [
    "'Indo' + 'nesia'"
   ]
  },
  {
   "cell_type": "markdown",
   "metadata": {},
   "source": [
    "<p>Hal ini karena operator&nbsp;<font color=\"blue\">+</font>&nbsp;telah di-&ldquo;overloaded&rdquo; di kelas&nbsp;<font color=\"blue\">int</font>&nbsp;dan kelas&nbsp;<font color=\"blue\">str</font>&nbsp;sehingga memiliki perilaku yang berbeda.</p>"
   ]
  },
  {
   "cell_type": "markdown",
   "metadata": {},
   "source": [
    "<h2 id=\"membuat-operator-overloading\">Membuat Operator Overloading</h2>\n",
    "<p>Nah, pertanyaannya adalah: bagaimana kita bisa menentukan aksi suatu kelas <br>jika kelas yang kita buat tersebut dijadikan sebagai operan dari suatu operator?<br>Misalkan kita memiliki kelas seperti berikut:</p>"
   ]
  },
  {
   "cell_type": "code",
   "execution_count": 6,
   "metadata": {},
   "outputs": [],
   "source": [
    "class Angka:\n",
    "    def __init__(self, angka):\n",
    "        self.angka = angka"
   ]
  },
  {
   "cell_type": "markdown",
   "metadata": {},
   "source": [
    "<p>Lalu kita ingin menambahkan dua buah instance dari kelas&nbsp;<font color=\"blue\">Angka</font>:</p>\n",
    "\n",
    "<font color= red> Yang ada justru kita mendapatkan error: <font>"
   ]
  },
  {
   "cell_type": "code",
   "execution_count": 9,
   "metadata": {},
   "outputs": [
    {
     "ename": "TypeError",
     "evalue": "unsupported operand type(s) for +: 'Angka' and 'Angka'",
     "output_type": "error",
     "traceback": [
      "\u001b[1;31m----------------------------------------------------------------------\u001b[0m",
      "\u001b[1;31mTypeError\u001b[0m                            Traceback (most recent call last)",
      "\u001b[1;32m<ipython-input-9-e5aad46148ae>\u001b[0m in \u001b[0;36m<module>\u001b[1;34m\u001b[0m\n\u001b[0;32m      1\u001b[0m \u001b[0mx1\u001b[0m \u001b[1;33m=\u001b[0m \u001b[0mAngka\u001b[0m\u001b[1;33m(\u001b[0m\u001b[1;36m10\u001b[0m\u001b[1;33m)\u001b[0m\u001b[1;33m\u001b[0m\u001b[1;33m\u001b[0m\u001b[0m\n\u001b[0;32m      2\u001b[0m \u001b[0mx2\u001b[0m \u001b[1;33m=\u001b[0m \u001b[0mAngka\u001b[0m\u001b[1;33m(\u001b[0m\u001b[1;36m20\u001b[0m\u001b[1;33m)\u001b[0m\u001b[1;33m\u001b[0m\u001b[1;33m\u001b[0m\u001b[0m\n\u001b[1;32m----> 3\u001b[1;33m \u001b[0mx1\u001b[0m \u001b[1;33m+\u001b[0m \u001b[0mx2\u001b[0m\u001b[1;33m\u001b[0m\u001b[1;33m\u001b[0m\u001b[0m\n\u001b[0m",
      "\u001b[1;31mTypeError\u001b[0m: unsupported operand type(s) for +: 'Angka' and 'Angka'"
     ]
    }
   ],
   "source": [
    "x1 = Angka(10)\n",
    "x2 = Angka(20)\n",
    "x1 + x2"
   ]
  },
  {
   "cell_type": "markdown",
   "metadata": {},
   "source": [
    "Error di atas menyatakan kalau kelas&nbsp;<span style=\"color: blue;\">Angka</span>&nbsp;tidak bisa menjadi operand dari operator&nbsp;<span style=\"color: blue;\">+</span>.\n",
    "<br>Untuk membuatnya, kita harus mendefinisikan&nbsp;<em>magic method</em>&nbsp;bernama&nbsp;<span style=\"color: blue;\">__add__()</span>&nbsp;seperti berikut:"
   ]
  },
  {
   "cell_type": "code",
   "execution_count": 11,
   "metadata": {},
   "outputs": [],
   "source": [
    "class Angka:\n",
    "    def __init__(self, angka):\n",
    "        self.angka = angka\n",
    "\n",
    "    def __add__(self, objek):\n",
    "        return self.angka + objek.angka"
   ]
  },
  {
   "cell_type": "markdown",
   "metadata": {},
   "source": [
    "Ketika kita panggil:"
   ]
  },
  {
   "cell_type": "code",
   "execution_count": 12,
   "metadata": {},
   "outputs": [
    {
     "name": "stdout",
     "output_type": "stream",
     "text": [
      "30\n"
     ]
    }
   ],
   "source": [
    "x1 = Angka(10)\n",
    "x2 = Angka(20)\n",
    "\n",
    "print(x1 + x2)"
   ]
  },
  {
   "cell_type": "markdown",
   "metadata": {},
   "source": [
    "<p>Atau kita juga bisa me-return instan baru dari kelas&nbsp;<font color=\"blue\">Angka</font>&nbsp;agar hasilnya tetap konsisten seperti berikut:</p>"
   ]
  },
  {
   "cell_type": "code",
   "execution_count": 14,
   "metadata": {},
   "outputs": [],
   "source": [
    "class Angka:\n",
    "    def __init__(self, angka):\n",
    "        self.angka = angka\n",
    "\n",
    "    def __add__(self, objek):\n",
    "        return Angka(\n",
    "          self.angka + objek.angka\n",
    "        )"
   ]
  },
  {
   "cell_type": "markdown",
   "metadata": {},
   "source": [
    "Ketika dipanggil:"
   ]
  },
  {
   "cell_type": "code",
   "execution_count": 17,
   "metadata": {},
   "outputs": [
    {
     "name": "stdout",
     "output_type": "stream",
     "text": [
      "25\n"
     ]
    }
   ],
   "source": [
    "x1 = Angka(5)\n",
    "x2 = Angka(20)\n",
    "x3 = x1 + x2\n",
    "\n",
    "print(x3.angka)"
   ]
  },
  {
   "cell_type": "markdown",
   "metadata": {},
   "source": [
    "<h2 >Daftar Fungsi Untuk Operator Aritmatika</h2>\n",
    "<p>Selain fungsi&nbsp;<font color=\"blue\">__add__</font>&nbsp;untuk menangani operator&nbsp;<font color=\"blue\">+</font>, <br>kita juga bisa menggunakan berbagai fungsi lain untuk menangani berbagai operator.</p>\n",
    "<p>Lebih jelasnya silakan perhatikan tabel berikut:</p>\n",
    "<table align=\"left\" rules=\"all\">\n",
    "<thead>\n",
    "<tr>\n",
    "<th>Operator</th>\n",
    "<th>Nama Fungsi</th>\n",
    "</tr>\n",
    "</thead>\n",
    "<tbody>\n",
    "<tr>\n",
    "<td>+</td>\n",
    "<td><code>__add__()</code></td>\n",
    "</tr>\n",
    "<tr>\n",
    "<td>-</td>\n",
    "<td><code>__sub__()</code></td>\n",
    "</tr>\n",
    "<tr>\n",
    "<td>*</td>\n",
    "<td><code>__mul__()</code></td>\n",
    "</tr>\n",
    "<tr>\n",
    "<td>/</td>\n",
    "<td><code>__truediv__()</code></td>\n",
    "</tr>\n",
    "<tr>\n",
    "<td>//</td>\n",
    "<td><code>__floordiv__()</code></td>\n",
    "</tr>\n",
    "<tr>\n",
    "<td>%</td>\n",
    "<td><code>__mod __()</code></td>\n",
    "</tr>\n",
    "<tr>\n",
    "<td>**</td>\n",
    "<td><code>__pow__()</code></td>\n",
    "</tr>\n",
    "<tr>\n",
    "<td>»</td>\n",
    "<td><code>__rshift__()</code></td>\n",
    "</tr>\n",
    "<tr>\n",
    "<td>«</td>\n",
    "<td><code>__lshift__()</code></td>\n",
    "</tr>\n",
    "<tr>\n",
    "<td>&amp;</td>\n",
    "<td><code>__and__()</code></td>\n",
    "</tr>\n",
    "<tr>\n",
    "<td>|</td>\n",
    "<td><code>__or__()</code></td>\n",
    "</tr>\n",
    "<tr>\n",
    "<td>^</td>\n",
    "<td><code>__xor__()</code></td>\n",
    "</tr>\n",
    "</tbody>\n",
    "</table>"
   ]
  },
  {
   "cell_type": "markdown",
   "metadata": {},
   "source": []
  },
  {
   "cell_type": "markdown",
   "metadata": {},
   "source": [
    "<h1>Menangani Operator Perbandingan</h1>\n",
    "<p>Selain operator aritmatika, python juga menyediakan magic method untuk menangani operator perbandingan seperti operator lebih dari (<font color=\"blue\">&gt;</font>), kurang dari (<font color=\"blue\">&lt;</font>), operator sama dengan (<font color=\"blue\">==</font>) dan lain sebagainya.</p>\n",
    "<ul>\n",
    "<li><p>Untuk operator perbandingan lebih dari, kita bisa menggunakan fungsi&nbsp;<font color=\"blue\">__gt__</font>&nbsp;yang merupakan singkatan dari&nbsp;<em>greater than</em>.</p>\n",
    "<li><p>Untuk operator kurang dari, kita bisa menggunakan fungsi&nbsp;<font color=\"blue\">__lt__</font>&nbsp;yang merupakan singkatan dari&nbsp;<em>less than</em>.</p>\n",
    "<li><p>Dan untuk operator sama dengan, kita bisa menggunakan fungsi&nbsp;<font color=\"blue\">__eq__</font>&nbsp;yang merupakan singkatan dari&nbsp;<em>equal</em>.</p>\n",
    "</ul>\n",
    "<p>Perhatikan contoh berikut:</p>\n"
   ]
  },
  {
   "cell_type": "code",
   "execution_count": 20,
   "metadata": {},
   "outputs": [],
   "source": [
    "class Angka:\n",
    "    def __init__(self, angka):\n",
    "        self.angka = angka\n",
    "\n",
    "    def __gt__(self, objek):\n",
    "        return self.angka > objek.angka\n",
    "\n",
    "    def __lt__(self, objek):\n",
    "        return self.angka < objek.angka\n",
    "    \n",
    "    def __eq__(self, objek):\n",
    "        return self.angka == objek.angka"
   ]
  },
  {
   "cell_type": "markdown",
   "metadata": {},
   "source": [
    "Kemudian kita bisa membandigkan antar dua objek dari kelas <font color=\"bule\">Angka</font> seperti berikut:"
   ]
  },
  {
   "cell_type": "code",
   "execution_count": 22,
   "metadata": {},
   "outputs": [
    {
     "name": "stdout",
     "output_type": "stream",
     "text": [
      "True\n",
      "False\n",
      "False\n"
     ]
    }
   ],
   "source": [
    "x1 = Angka(20)\n",
    "x2 = Angka(10)\n",
    "\n",
    "print(x1 > x2)\n",
    "print(x1 < x2)\n",
    "print(x1 == x2)"
   ]
  },
  {
   "cell_type": "markdown",
   "metadata": {},
   "source": [
    "<h2 id=\"daftar-fungsi-untuk-operator-komparasi\">Daftar Fungsi Untuk Operator Komparasi</h2>\n",
    "<p>Untuk daftar lengkap nama fungsi + operator komparasi yang sesuai, silakan perhatikan tabel berikut:</p>\n",
    "<table align=\"left\">\n",
    "<thead>\n",
    "<tr>\n",
    "<th>Operator</th>\n",
    "<th>Nama Fungsi</th>\n",
    "</tr>\n",
    "</thead>\n",
    "<tbody>\n",
    "<tr>\n",
    "<td>&lt;</td>\n",
    "<td><code>__lt__()</code></td>\n",
    "</tr>\n",
    "<tr>\n",
    "<td>&gt;</td>\n",
    "<td><code>__gt__()</code></td>\n",
    "</tr>\n",
    "<tr>\n",
    "<td>&lt;=</td>\n",
    "<td><code>__le__()</code></td>\n",
    "</tr>\n",
    "<tr>\n",
    "<td>&gt;=</td>\n",
    "<td><code>__ge__()</code></td>\n",
    "</tr>\n",
    "<tr>\n",
    "<td>==</td>\n",
    "<td><code>__eq__()</code></td>\n",
    "</tr>\n",
    "<tr>\n",
    "<td>!=</td>\n",
    "<td><code>__ne__()</code></td>\n",
    "</tr>\n",
    "</tbody>\n",
    "</table>"
   ]
  },
  {
   "cell_type": "markdown",
   "metadata": {},
   "source": [
    "<h2 id=\"daftar-fungsi-untuk-operator-assignment\">Daftar Fungsi Untuk Operator Assignment</h2>\n",
    "<p>Selain operator aritmatika seperti penjumlahan (<font color=\"bule\">+</font>) dan pengurangan (<font color=\"bule\">-</font>), <br>kita juga bisa melakukan operator overloading untuk operator&nbsp;<em>shortcut assignment</em>.</p>\n",
    "<p>Perhatikan tabel berikut:</p>\n",
    "<table align=\"left\">\n",
    "<thead>\n",
    "<tr>\n",
    "<th>Operator</th>\n",
    "<th>Nama Fungsi</th>\n",
    "</tr>\n",
    "</thead>\n",
    "<tbody>\n",
    "<tr>\n",
    "<td>-=</td>\n",
    "<td><code>__isub__()</code></td>\n",
    "</tr>\n",
    "<tr>\n",
    "<td>+=</td>\n",
    "<td><code>__iadd__()</code></td>\n",
    "</tr>\n",
    "<tr>\n",
    "<td>*=</td>\n",
    "<td><code>__imul__()</code></td>\n",
    "</tr>\n",
    "<tr>\n",
    "<td>/=</td>\n",
    "<td><code>__idiv__()</code></td>\n",
    "</tr>\n",
    "<tr>\n",
    "<td>//=</td>\n",
    "<td><code>__ifloordiv__()</code></td>\n",
    "</tr>\n",
    "<tr>\n",
    "<td>%=</td>\n",
    "<td><code>__imod__()</code></td>\n",
    "</tr>\n",
    "<tr>\n",
    "<td>**=</td>\n",
    "<td><code>__ipow__()</code></td>\n",
    "</tr>\n",
    "<tr>\n",
    "<td>»=</td>\n",
    "<td><code>__irshift__()</code></td>\n",
    "</tr>\n",
    "<tr>\n",
    "<td>«=</td>\n",
    "<td><code>__ilshift__()</code></td>\n",
    "</tr>\n",
    "<tr>\n",
    "<td>&amp;=</td>\n",
    "<td><code>__iand__()</code></td>\n",
    "</tr>\n",
    "<tr>\n",
    "<td>|=</td>\n",
    "<td><code>__ior__()</code></td>\n",
    "</tr>\n",
    "<tr>\n",
    "<td>^=</td>\n",
    "<td><code>__ixor__()</code></td>\n",
    "</tr>\n",
    "</tbody>\n",
    "</table>"
   ]
  },
  {
   "cell_type": "markdown",
   "metadata": {},
   "source": []
  },
  {
   "cell_type": "code",
   "execution_count": null,
   "metadata": {},
   "outputs": [],
   "source": []
  }
 ],
 "metadata": {
  "kernelspec": {
   "display_name": "Python 3",
   "language": "python",
   "name": "python3"
  },
  "language_info": {
   "codemirror_mode": {
    "name": "ipython",
    "version": 3
   },
   "file_extension": ".py",
   "mimetype": "text/x-python",
   "name": "python",
   "nbconvert_exporter": "python",
   "pygments_lexer": "ipython3",
   "version": "3.7.6"
  }
 },
 "nbformat": 4,
 "nbformat_minor": 4
}
