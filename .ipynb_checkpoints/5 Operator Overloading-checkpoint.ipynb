{
 "cells": [
  {
   "cell_type": "markdown",
   "metadata": {},
   "source": [
    "# Python: Operator Overloading 🐍"
   ]
  },
  {
   "cell_type": "markdown",
   "metadata": {},
   "source": [
    "\n",
    "<div><img src=\"img/overloading.webp\" alt=\" \" width=\"300\" height=\"600\" align=\"left\"/></div>\n",
    "<br>\n",
    "<br>\n",
    "<br>\n",
    "<br>\n",
    "<br>\n",
    "<br>\n",
    "<br>\n",
    "<br>\n",
    "<br>\n",
    "<br>\n",
    "<br>\n",
    "<h2 id=\"pengertian-overloading\">Pengertian Overloading</h2>\n",
    "<p>Overloading &ndash;dalam dunia pemrograman&ndash; adalah teknik untuk mengatur berbagai perilaku dari suatu fungsi berdasarkan dengan parameter yang diterimanya, <br>atau perilaku objek berdasarkan dengan operator yang sedang dioperasikan&nbsp;. <br>Satu fungsi atau satu objek bisa memiliki perilaku yang berbeda-beda tergantung dengan kondisi yang ia terima.</p>\n",
    "<p>Pada pertemuan ini, kita akan lebih fokus terhadap operator overloading.</p>\n",
    "<h2 id=\"apa-itu-operator-overloading\">Apa itu Operator Overloading?</h2>\n",
    "<p>Operator overloading adalah teknik di mana kita akan mengatur atau mendefinisikan perilaku sebuah kelas (yang kita buat), bagaimana ia akan berinteraksi dengan berbagai macam operator yang berbeda.</p>\n",
    "<p>Kita ambil contoh operator&nbsp;<font color=\"blue\" >+</font >.</p>\n",
    "<p>Operator&nbsp;<font color=\"blue\" >+</font >&nbsp;di dalam python memiliki lebih dari satu peran tergantung tipe data dari operan yang diterima.</p>\n",
    "<p>Misal kita operasikan operator&nbsp;<font color=\"blue\" >+</font >&nbsp;terhadap nilai&nbsp;<font color=\"blue\" >int</font >, ia akan melakukan operasi penjumlahan.</p>\n",
    "<p>Contoh:</p>"
   ]
  },
  {
   "cell_type": "code",
   "execution_count": 5,
   "metadata": {},
   "outputs": [
    {
     "data": {
      "text/plain": [
       "30"
      ]
     },
     "execution_count": 5,
     "metadata": {},
     "output_type": "execute_result"
    }
   ],
   "source": [
    "10 + 20"
   ]
  },
  {
   "cell_type": "markdown",
   "metadata": {},
   "source": [
    "Dan jika kita operasikan terhadap dua buah string atau lebih, ia akan melakukan operasi “penggabungan”.\n",
    "\n",
    "Perhatikan contoh berikut:"
   ]
  },
  {
   "cell_type": "code",
   "execution_count": 6,
   "metadata": {},
   "outputs": [
    {
     "data": {
      "text/plain": [
       "'Indonesia'"
      ]
     },
     "execution_count": 6,
     "metadata": {},
     "output_type": "execute_result"
    }
   ],
   "source": [
    "'Indo' + 'nesia'"
   ]
  },
  {
   "cell_type": "markdown",
   "metadata": {},
   "source": [
    "<p>Hal ini karena operator&nbsp;<font color=\"blue\" >+</font >&nbsp;telah di-&ldquo;<i>overloaded</i>&rdquo; di kelas&nbsp;<font color=\"blue\" >int</font >&nbsp;dan kelas&nbsp;<font color=\"blue\" >str</font >&nbsp;sehingga memiliki perilaku yang berbeda.</p>\n",
    "<h2 id=\"membuat-operator-overloading\">Membuat Operator Overloading</h2>\n",
    "<p>Nah, pertanyaannya adalah: bagaimana kita bisa menentukan aksi suatu kelas jika kelas yang kita buat tersebut dijadikan sebagai operan dari suatu operator?</p>\n",
    "<p>Misalkan kita memiliki kelas seperti berikut:</p>"
   ]
  },
  {
   "cell_type": "code",
   "execution_count": null,
   "metadata": {},
   "outputs": [],
   "source": [
    "class Angka:\n",
    "    def __init__(self, angka):\n",
    "        self.angka = angka"
   ]
  },
  {
   "cell_type": "markdown",
   "metadata": {},
   "source": [
    "Lalu kita ingin menambahkan dua buah instance dari kelas Angka:"
   ]
  },
  {
   "cell_type": "code",
   "execution_count": 17,
   "metadata": {},
   "outputs": [],
   "source": [
    "class Karakter:\n",
    "    def __init__(self, nama):\n",
    "        self.nama=nama\n",
    "        self.darah = 100.0\n",
    "        self.poin = 0\n",
    "        self.hidup = True\n",
    "        self.senjata = dict()\n",
    "        \n",
    "    def pukul(self, lawan):\n",
    "        if lawan.hidup:\n",
    "            self.poin = self.poin + 5\n",
    "            lawan.darah = lawan.darah -5\n",
    "            \n",
    "            print(self.nama, \"memukul\", lawan.nama)\n",
    "            print(\"Darah\", lawan.nama, \"berkurang menjadi\", lawan.darah)\n",
    "            print(\"Poin\", self.nama, \"bertambah menjadi\", self.poin)\n",
    "            print(\"=\"*70)\n",
    "        else:\n",
    "            print(lawan.nama,\"sudah mati\")\n",
    "            \n",
    "    def ambil_senjata(self, senjatanya):\n",
    "        self.senjata.nama\n",
    "             \n",
    "        \n",
    "class Senjata:\n",
    "    def __init__(self, nama, kekuatan):\n",
    "        self.nama = nama\n",
    "        self.kekuatan = kekuatan\n",
    "        "
   ]
  },
  {
   "cell_type": "code",
   "execution_count": 18,
   "metadata": {},
   "outputs": [
    {
     "name": "stdout",
     "output_type": "stream",
     "text": [
      "Uya Kuya memukul Denise\n",
      "Darah Denise berkurang menjadi 95.0\n",
      "Poin Uya Kuya berkurang menjadi 5\n",
      "======================================================================\n"
     ]
    }
   ],
   "source": [
    "uya = Karakter('Uya Kuya')\n",
    "denis = Karakter('Denise')\n",
    "\n",
    "tas = Senjata(\"tas\", 7)\n",
    "\n",
    "\n",
    "\n",
    "\n",
    "uya.pukul(denis)"
   ]
  },
  {
   "cell_type": "code",
   "execution_count": null,
   "metadata": {},
   "outputs": [],
   "source": [
    "\n",
    "# if karakter_lawan.darah <=0:\n",
    "#     karakter_lawan.hidup = False\n",
    "#     print(self.nama, \"mencakar\", karakter_lawan.nama)"
   ]
  }
 ],
 "metadata": {
  "kernelspec": {
   "display_name": "Python 3",
   "language": "python",
   "name": "python3"
  },
  "language_info": {
   "codemirror_mode": {
    "name": "ipython",
    "version": 3
   },
   "file_extension": ".py",
   "mimetype": "text/x-python",
   "name": "python",
   "nbconvert_exporter": "python",
   "pygments_lexer": "ipython3",
   "version": "3.7.6"
  }
 },
 "nbformat": 4,
 "nbformat_minor": 4
}
