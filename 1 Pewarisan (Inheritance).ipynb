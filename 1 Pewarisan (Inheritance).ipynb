{
 "cells": [
  {
   "cell_type": "markdown",
   "metadata": {},
   "source": [
    "# Python: Pewarisan (Inheritance) 🐍"
   ]
  },
  {
   "cell_type": "markdown",
   "metadata": {},
   "source": [
    "<img src=\"img/pewarisan.webp\" alt=\" \" width=\"300\" height=\"600\" align=\"left\"/>"
   ]
  },
  {
   "cell_type": "markdown",
   "metadata": {},
   "source": [
    "<h2 id=\"pendahuluan\">Pendahuluan</h2>\n",
    "<p>Di antara konsep paling dasar dalam paradigma OOP adalah&nbsp;<strong>konsep pewarisan</strong>.</p>\n",
    "<p>Dengan pewarisan, kita bisa membuat satu objek sebagai induk dari objek-objek lainnya. Setiap objek yang menjadi&nbsp;<strong>turunan</strong>&nbsp;dari objek induk akan memiliki sifat dan perilaku dasar yang sama.</p>\n",
    "<h2 id=\"memahami-konsep-pewarisan-objek\">Memahami Konsep Pewarisan Objek</h2>\n",
    "<p>Bagaimana konsep pewarisan bekerja?</p>\n",
    "<p>Konsep pewarisan adalah konsep di mana sebuah kelas atau objek mewariskan sifat dan perilaku kepada kelas lainnya.</p>\n",
    "<p>Kelas yang menjadi &ldquo;pemberi waris&rdquo; dinamakan&nbsp;<strong>kelas induk</strong>&nbsp;atau&nbsp;<strong>kelas basis</strong></p>\n",
    "<p>Sedangkan kelas yang menjadi &ldquo;ahli waris&rdquo; dinamakan sebagai&nbsp;<strong>kelas turunan</strong>.</p>\n",
    "<h2 id=\"sifat-pewarisan\">Sifat Pewarisan</h2>\n",
    "<p>Secara umum, kelas turunan akan selalu memiliki sifat dan perilaku yang sama dengan kelas induknya: mulai dari atribut sampai fungsi-fungsinya.</p>\n",
    "<p>Akan tetapi tidak sebaliknya, belum tentu kelas induk memiliki semua atribut dan sifat dari kelas-kelas turunannya.</p>\n",
    "<h2 id=\"contoh-sederhana-penerapan-pewarisan-objek\">Contoh Sederhana Penerapan Pewarisan Objek</h2>\n",
    "<p>Untuk mempermudah pemahaman, mari kita buat contoh kasus sederhana yang akan kita selesaikan dengan konsep pewarisan.</p>\n",
    "<p>Kita akan membuat 3 buah objek:</p>\n",
    "<ul>\n",
    "<li>Orang</li>\n",
    "<li>Pelajar</li>\n",
    "<li>Pekerja</li>\n",
    "</ul>\n",
    "<p>Masing-masing dari 3 objek tersebut memiliki beberapa sifat dan perilaku yang sama, misalkan:</p>\n",
    "<ul>\n",
    "<li><font color=\"anakiwa\">nama</font></li>\n",
    "<li><font color=\"anakiwa\">asal</font></li>\n",
    "<li>dan kemampuan&nbsp;<font color=\"anakiwa\">memperkenalkan diri</font></li>\n",
    "</ul>\n",
    "<p>Tetapi, sebagian objek tetap memliki ciri khasnya masing-masing, misalkan:</p>\n",
    "<ul>\n",
    "<li>Objek&nbsp;<font color=\"anakiwa\">Pelajar</font>&nbsp;memiliki atribut&nbsp;<font color=\"anakiwa\">sekolah</font>.</li>\n",
    "<li>Objek&nbsp;<font color=\"anakiwa\">Pekerja</font>&nbsp;memiliki atribut&nbsp;<font color=\"anakiwa\">tempat kerja</font>.</li>\n",
    "</ul>\n",
    "<h3 id=\"cari-hubungan-pewarisan-antar-ketiganya\">Cari hubungan &ldquo;pewarisan&rdquo; antar ketiganya</h3>\n",
    "<p>Untuk menyelesaikan kasus di atas, kita perlu menarik sebuah premis bahwa ketiganya memiliki hubungan &ldquo;waris&rdquo;.</p>\n",
    "<p>Seperti apa hubungan tersebut?</p>\n",
    "<p>Hubungannya adalah:</p>\n",
    "<ul>\n",
    "<li>Objek&nbsp;<font color=\"anakiwa\">Pelajar</font>&nbsp;sebenarnya adalah objek&nbsp;<font color=\"anakiwa\">Orang</font>&nbsp;juga, hanya saja objek&nbsp;<font color=\"anakiwa\">Pelajar</font>&nbsp;memiliki atribut tambahan yang tidak dimiliki objek&nbsp;<font color=\"anakiwa\">Orang</font>.</li>\n",
    "<li>Begitu pula objek&nbsp;<font color=\"anakiwa\">Pekerja</font>, ia sebenarnya adalah objek&nbsp;<font color=\"anakiwa\">Orang</font>&nbsp;juga, hanya saja ia memiliki atribut tambahan yang tidak dimiliki objek&nbsp;<font color=\"anakiwa\">Orang</font>.</li>\n",
    "</ul>\n",
    "<h3 id=\"definisikan-kelas-basis-dan-kelas-turunan\">Definisikan Kelas Basis dan Kelas Turunan</h3>\n",
    "<p>Setelah mengetahui gambaran hubungan &ldquo;waris&rdquo; antar ketiga keelas tersebut, kita bisa simpulkan bahwa:</p>\n",
    "<ul>\n",
    "<li>Objek&nbsp;<font color=\"anakiwa\">Pelajar</font>&nbsp;dan objek&nbsp;<font color=\"anakiwa\">Pekerja</font>&nbsp;adalah kelas turunan dari objek&nbsp;<font color=\"anakiwa\">Orang</font>.</li>\n",
    "</ul>\n",
    "<p>Setelah berhasil menentukan mana&nbsp;<strong>objek induk</strong>&nbsp;dan mana&nbsp;<strong>objek turunan</strong>, mari kita tuangkan hal tersebut kedalam kode program 😎</p>\n",
    "<h2 id=\"membuat-objek-induk-parent\">Membuat Objek Induk (Parent)</h2>\n",
    "<p>Untuk membuat objek induk pada python, caranya sama dengan cara membuat objek biasa. Karena pada dasarnya, semua objek pada python bisa menjadi objek induk dari objek turunan lainnya.</p>\n",
    "<p>Mari kita buat objek&nbsp;<font color=\"anakiwa\">Orang</font>&nbsp;seperti skenario yang telah kita bahas pada bagian sebelumnya:</p>"
   ]
  },
  {
   "cell_type": "code",
   "execution_count": 3,
   "metadata": {},
   "outputs": [],
   "source": [
    "class Orang:\n",
    "\n",
    "    def __init__ (self, nama, asal):\n",
    "        self.nama = nama\n",
    "        self.asal = asal\n",
    "\n",
    "    def perkenalan (self):\n",
    "        print('Perkenalkan nama saya',self.nama, 'dari',self.asal)"
   ]
  },
  {
   "cell_type": "markdown",
   "metadata": {},
   "source": [
    "Objek di atas sangat sederhana, ia hanya memiliki 2 atribut (<font color=\"anakiwa\">nama</font>&nbsp;dan&nbsp;<font color=\"anakiwa\">asal</font>) <br>serta memiliki satu buah perilaku yaitu&nbsp;<font color=\"anakiwa\">perkenalan()</font>.\n",
    "<br>Kita bisa membuat instance dari kelas&nbsp;<font color=\"anakiwa\">Orang</font>&nbsp;seperti biasanya:"
   ]
  },
  {
   "cell_type": "code",
   "execution_count": 4,
   "metadata": {},
   "outputs": [
    {
     "name": "stdout",
     "output_type": "stream",
     "text": [
      "Perkenalkan nama saya Andi dari Surabaya\n"
     ]
    }
   ],
   "source": [
    "andi = Orang('Andi', 'Surabaya')\n",
    "andi.perkenalan()"
   ]
  },
  {
   "cell_type": "markdown",
   "metadata": {},
   "source": [
    "<h2 id=\"membuat-objek-turunan-child\">Membuat Objek Turunan (Child)</h2>\n",
    "<p>Langkah selanjutnya adalah: membuat objek turunan dari kelas&nbsp;<font color=\"anakiwa\">Orang</font>. Sesuai dengan skenario yang telah kita bahas di atas, kita akan membuat dua buah objek baru yaitu objek&nbsp;<font color=\"anakiwa\">Pelajar</font>&nbsp;dan&nbsp;<font color=\"anakiwa\">Pekerja</font>, yang mana keduanya akan mewarisi objek&nbsp;<font color=\"anakiwa\">Orang</font>.\n",
    "<p>Caranya bagaimana?</p>\n",
    "<p>Kita bisa&nbsp;<strong>membuat</strong>&nbsp;kelas turunan dengan cara&nbsp;<strong>mengirimkan kelas induk sebagai parameter</strong>&nbsp;saat mendefinisikan kelas.</p>\n",
    "<p>Perhatikan contoh berikut:</p>"
   ]
  },
  {
   "cell_type": "code",
   "execution_count": 5,
   "metadata": {},
   "outputs": [],
   "source": [
    "class Pelajar (Orang):\n",
    "    pass\n",
    "\n",
    "class Pekerja (Orang):\n",
    "    pass"
   ]
  },
  {
   "cell_type": "markdown",
   "metadata": {},
   "source": [
    "<p>Kita telah membuat dua buah kelas yang keduanya sama-sama memiliki setiap atribut dan fungsi dari kelas&nbsp;<font color=\"anakiwa\">Orang</font>.</p>\n",
    "<p>Kita meletakkan&nbsp;perintah pass &nbsp;karena kita hanya ingin melakukan pewarisan apa adanya tanpa menambahkan apa pun lagi.</p>\n",
    "<p>Sehingga, kita bisa membuat instance dari kelas&nbsp;<font color=\"anakiwa\">Pelajar</font>&nbsp;dan&nbsp;<font color=\"anakiwa\">Pekerjaan</font>, serta memanggil fungsi&nbsp;<font color=\"anakiwa\">perkenalan()</font>&nbsp;dengan cara yang benar-benar identik dengan kelas&nbsp;<font color=\"anakiwa\">Orang</font>:</p>"
   ]
  },
  {
   "cell_type": "code",
   "execution_count": 6,
   "metadata": {},
   "outputs": [
    {
     "name": "stdout",
     "output_type": "stream",
     "text": [
      "Perkenalkan nama saya Andi dari Surabaya\n",
      "Perkenalkan nama saya Deni dari Makassar\n",
      "Perkenalkan nama saya Budi dari Pontianak\n"
     ]
    }
   ],
   "source": [
    "andi = Orang('Andi', 'Surabaya')\n",
    "andi.perkenalan()\n",
    "\n",
    "deni = Pelajar('Deni', 'Makassar')\n",
    "deni.perkenalan()\n",
    "\n",
    "budi = Pekerja('Budi', 'Pontianak')\n",
    "budi.perkenalan()"
   ]
  },
  {
   "cell_type": "markdown",
   "metadata": {},
   "source": [
    "<h2 id=\"membuat-konstruktor-pada-kelas-turunan\">Membuat Konstruktor Pada Kelas Turunan</h2>\n",
    "Konstruktor pada kelas turunan memiliki perilaku yang sedikit berbeda dengan konstruktor yang terdapat pada kelas induk.\n",
    "<br>Apa yang terjadi ketika kelas turunan memiliki konstruktor sendiri?\n",
    "<br>Ia akan menimpa konstruktor dari kelas induk sehingga konstruktor kelas induk tidak akan pernah dieksekusi.\n",
    "<br>Coba kita ubah konstruktor pada kelas&nbsp;<font color=\"anakiwa\">Orang</font>&nbsp;menjadi seperti berikut:"
   ]
  },
  {
   "cell_type": "code",
   "execution_count": 17,
   "metadata": {},
   "outputs": [],
   "source": [
    "class Orang:\n",
    "\n",
    "    def __init__ (self, nama, asal):\n",
    "        self.nama = nama\n",
    "        self.asal = asal\n",
    "        print('fungsi Orang.__init__() dieksekusi')"
   ]
  },
  {
   "cell_type": "markdown",
   "metadata": {},
   "source": [
    "Jalankan kembali program kita, kita akan mendapatkan output seperti berikut:"
   ]
  },
  {
   "cell_type": "code",
   "execution_count": 20,
   "metadata": {},
   "outputs": [
    {
     "name": "stdout",
     "output_type": "stream",
     "text": [
      "fungsi Orang.__init__() dieksekusi\n"
     ]
    }
   ],
   "source": [
    "andi = Orang('Andi', 'Surabaya')"
   ]
  },
  {
   "cell_type": "code",
   "execution_count": 22,
   "metadata": {},
   "outputs": [],
   "source": [
    "deni = Pelajar('Deni', 'Makassar')"
   ]
  },
  {
   "cell_type": "code",
   "execution_count": 23,
   "metadata": {},
   "outputs": [],
   "source": [
    "\n",
    "budi = Pekerja('Budi', 'Pontianak')"
   ]
  },
  {
   "cell_type": "markdown",
   "metadata": {},
   "source": [
    " "
   ]
  },
  {
   "cell_type": "markdown",
   "metadata": {},
   "source": [
    "<h1 id=\"fungsi-super__init__-atau-kelasinduk__init__\">Fungsi&nbsp;<font color=\"blue\">super().__init__()</font>&nbsp;atau&nbsp;<font color=\"blue\">KelasInduk.__init__()</font></h1>\n",
    "<p>Menimpa konstruktor kelas induk adalah ide yang buruk. Karena hal tersebut akan menghilangkan sebagian dari &ldquo;pewarisan&rdquo; itu sendiri. Di sisi lain, menambahkan fungsi konstruktor ke dalam kelas turunan ternyata justru menimpa fungsi konstruktor milik kelas induk.</p>\n",
    "<p>Lalu bagiamana solusisnya?</p>\n",
    "<p>Solusinya adalah dengan memanggil fungsi konstruktor pada kelas induk secara implisit.</p>\n",
    "<p>Caranya ada 2:</p>\n",
    "<ul>\n",
    "<li>yang pertama menggunakan fungsi&nbsp;<font color=\"blue\">super().__init__()</font></li>\n",
    "<li>dan yang kedua menggunakan&nbsp;<font color=\"blue\">KelasInduk.__init__()</font></li>\n",
    "</ul>\n",
    "<p><strong>Apa beda keduanya?</strong></p>\n",
    "<p>Untuk cara pertama:&nbsp;<font color=\"blue\">super().__init__()</font>&nbsp;kita cukup memanggil fungsinya seperti biasanya, tidak perlu mendefinisikan lagi data&nbsp;<font color=\"blue\">self</font>.</p>\n",
    "<p>Ada pun untuk cara yang kedua, kita harus mengirimkan data&nbsp;<font color=\"blue\">self</font>&nbsp;secara manual.</p>\n",
    "<p>Agar lebih jelas, mari kita langsung praktikkan keduanya.</p>\n",
    "<p>Kita coba cara yang pertama untuk kelas&nbsp;<font color=\"blue\">Pelajar</font>, dan cara yang kedua untuk kelas&nbsp;<font color=\"blue\">Pekerja</font>:</p>"
   ]
  },
  {
   "cell_type": "code",
   "execution_count": 25,
   "metadata": {},
   "outputs": [],
   "source": [
    "class Pelajar (Orang):\n",
    "    def __init__ (self, nama, asal):\n",
    "        super().__init__(nama, asal)\n",
    "\n",
    "class Pekerja (Orang):\n",
    "    def __init__ (self, nama, asal):\n",
    "        Orang.__init__(self, nama, asal)"
   ]
  },
  {
   "cell_type": "markdown",
   "metadata": {},
   "source": [
    "<h2 >Menambahkan Properti Baru Yang Tidak Ada Pada Induk</h2>\n",
    "<p>Seperti yang telah berlalu penjelasannya:</p>\n",
    "<p>Bahwa kelas turunan akan memiliki semua sifat dan perilaku dari kelas induk, akan tetapi belum tentu kelas induk memiliki semua sifat dan perilaku dari kelas turunannya.</p>\n",
    "<p>Itu artinya, kita bisa menambahkan atribut tertentu atau fungsi tertentu pada kelas turunan yang tidak ada pada kelas induk.</p>\n",
    "<p>Bagaimana caranya?</p>\n",
    "<p>Ya tinggal tambahkan saja, sederhana sekali 😁</p>\n",
    "<p>Perhatikan contoh berikut, kita akan menambahkan atribut&nbsp;<font color=\"blue\">sekolah</font>&nbsp;untuk kelas&nbsp;<font color=\"blue\">Pelajar</font>, dan atribut&nbsp;<font color=\"blue\">tempat_kerja</font>&nbsp;untuk kelas&nbsp;<font color=\"blue\">Pekerja</font>:</p>"
   ]
  },
  {
   "cell_type": "code",
   "execution_count": 30,
   "metadata": {},
   "outputs": [],
   "source": [
    "class Orang:\n",
    "\n",
    "    def __init__ (self, nama, asal):\n",
    "        self.nama = nama\n",
    "        self.asal = asal\n",
    "\n",
    "    def perkenalan (self):\n",
    "        print(f'Perkenalkan nama saya {self.nama} dari {self.asal}')"
   ]
  },
  {
   "cell_type": "code",
   "execution_count": 31,
   "metadata": {},
   "outputs": [],
   "source": [
    "class Pelajar (Orang):\n",
    "    def __init__ (self, nama, asal, sekolah):\n",
    "        super().__init__(nama, asal)\n",
    "        self.sekolah = sekolah\n",
    "\n",
    "class Pekerja (Orang):\n",
    "    def __init__ (self, nama, asal, tempat_kerja):\n",
    "        Orang.__init__(self, nama, asal)\n",
    "        self.tempat_kerja = tempat_kerja"
   ]
  },
  {
   "cell_type": "markdown",
   "metadata": {},
   "source": [
    "Dan terakhir, kita sesuaikan kode ketika membuat instance dari 2 kelas tersebut:"
   ]
  },
  {
   "cell_type": "code",
   "execution_count": 32,
   "metadata": {},
   "outputs": [
    {
     "name": "stdout",
     "output_type": "stream",
     "text": [
      "Perkenalkan nama saya Deni dari Makassar\n",
      "Saya sekolah di SMA Negeri 1 Makassar\n",
      "Perkenalkan nama saya Budi dari Pontianak\n",
      "Saya bekerja di Google\n"
     ]
    }
   ],
   "source": [
    "deni = Pelajar('Deni', 'Makassar', 'SMA Negeri 1 Makassar')\n",
    "deni.perkenalan()\n",
    "print(f'Saya sekolah di {deni.sekolah}')\n",
    "\n",
    "budi = Pekerja('Budi', 'Pontianak', 'Google')\n",
    "budi.perkenalan()\n",
    "print(f'Saya bekerja di {budi.tempat_kerja}')"
   ]
  },
  {
   "cell_type": "markdown",
   "metadata": {},
   "source": []
  },
  {
   "cell_type": "code",
   "execution_count": 34,
   "metadata": {},
   "outputs": [
    {
     "name": "stdout",
     "output_type": "stream",
     "text": [
      "Perkenalkan nama saya Andi dari Surabaya\n"
     ]
    }
   ],
   "source": [
    "andi = Orang('Andi', 'Surabaya')\n",
    "andi.perkenalan()"
   ]
  },
  {
   "cell_type": "code",
   "execution_count": null,
   "metadata": {},
   "outputs": [],
   "source": []
  }
 ],
 "metadata": {
  "kernelspec": {
   "display_name": "Python 3",
   "language": "python",
   "name": "python3"
  },
  "language_info": {
   "codemirror_mode": {
    "name": "ipython",
    "version": 3
   },
   "file_extension": ".py",
   "mimetype": "text/x-python",
   "name": "python",
   "nbconvert_exporter": "python",
   "pygments_lexer": "ipython3",
   "version": "3.7.6"
  }
 },
 "nbformat": 4,
 "nbformat_minor": 4
}
