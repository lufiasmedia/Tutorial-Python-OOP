{
 "cells": [
  {
   "cell_type": "markdown",
   "metadata": {},
   "source": [
    "# Python: Overriding (Penimpaan)"
   ]
  },
  {
   "cell_type": "markdown",
   "metadata": {},
   "source": [
    "<img src=\"img/overiding.webp\" alt=\" \" width=\"300\" height=\"600\" align=\"left\"/>\n",
    "<br>\n",
    "<br>\n",
    "<br>\n",
    "<br>\n",
    "<br>\n",
    "<br>\n",
    "<br>\n",
    "<br>\n",
    "<br>\n",
    "<br>\n",
    "<br>\n",
    "<p>Pada&nbsp;pertemuan sebelumnya</a>&nbsp;kita telah mempelajari tentang teknik&nbsp;<em>inheritance</em>&nbsp;atau pewarisan dalam python.</p>\n",
    "<p>Dan pada pertemuan kali ini, kita akan membahas lebih dalam tentang pewarisan: <br>yaitu penimpaan atau dalam bahasa inggris sering disebut dengan istilah&nbsp;<em>overriding</em>.</p>\n",
    "<h2 id=\"pengertian-overriding\">Pengertian Overriding</h2>\n",
    "<p>Apa itu overriding dalam konsep pemrograman berorientasi objek?</p>\n",
    "<p>Di dalam semua bahasa pemrograman yang berbasis objek, teknik&nbsp;<em>overriding</em>&nbsp;adalah fitur yang memungkinkan kita untuk&nbsp;<strong>mengimplementasikan &ldquo;ulang&rdquo;</strong>&nbsp;fungsi/method pada sebuah&nbsp;<em>child class</em>&nbsp;atau kelas turunan yang sebenarnya fungsi tersebut&nbsp;<strong>telah didefinisikan di dalam&nbsp;<em>parent class</em></strong> atau kelas induk.</p>\n",
    "<p>Overriding sendiri memberikan keuntungan kepada kita karena kita bisa&nbsp;<strong>menduplikat</strong>&nbsp;kelas lain &ndash;<em>sehingga kode program lebih singkat</em>, dan kita juga bisa&nbsp;<strong>&ldquo;membedakan&rdquo;</strong>&nbsp;fungsi-fungsi tertentu pada kelas turunan yang sudah didefinisikan pada kelas Induk.</p>\n",
    "<p>Hal ini memberikan kita keleluasaan untuk mendefinisikan berbagai kelas sesuai fungsinya masing-masing tanpa harus menulis kode yang sama berkali-kali. Oleh karena itu,&nbsp;<em>overriding</em>&nbsp;masih dikategorian&nbsp;<strong>sebuah bagian dari&nbsp;<em>pewarisan</em></strong>.</p>\n",
    "<h2 id=\"cara-melakukan-overriding-pada-python\">Cara Melakukan Overriding Pada Python</h2>\n",
    "<p>Untuk melakukan&nbsp;<em>overriding</em>&nbsp;pada python caranya sederhana:</p>\n",
    "<ol>\n",
    "<li>Kita hanya perlu melakukan pewarisan.</li>\n",
    "<li>Kemudian menulis ulang fungsi yang sudah ada pada kelas Induk.</li>\n",
    "</ol>\n",
    "<h2 id=\"contoh-overriding\">Contoh Overriding</h2>\n",
    "<p>Misalkan kita punya dua buah kelas yaitu&nbsp;<code>Kendaraan</code>&nbsp;dan&nbsp;<code>Mobil</code>&nbsp;di mana:</p>\n",
    "<ul>\n",
    "<li>Kelas&nbsp;<code>Kendaraan</code>&nbsp;adalah kelas induk</li>\n",
    "<li>dan Kelas&nbsp;<code>Mobil</code>&nbsp;adalah kelas turunan dari kelas&nbsp;<code>Kendaraan</code></li>\n",
    "</ul>\n",
    "<p>Dan:</p>\n",
    "<ul>\n",
    "<li>Kelas&nbsp;<code>Kendaraan</code>&nbsp;punya kemampuan (fungsi)&nbsp;<code>berjalan()</code></li>\n",
    "<li>Akan tetapi kita ingin bahwa kelas&nbsp;<code>Mobil</code>&nbsp;punya perilaku khusus untuk fungsi&nbsp;<code>berjalan()</code>.</li>\n",
    "</ul>\n",
    "<p>Agar lebih jelas, mari kita praktikkan secara langsung.</p>\n",
    "<p>Sebagai pondasi awal, buat dua buah kelas seperti berikut:</p>"
   ]
  },
  {
   "cell_type": "code",
   "execution_count": 4,
   "metadata": {},
   "outputs": [],
   "source": [
    "class Kendaraan:\n",
    "    def berjalan(self):\n",
    "        print('berjalan..')\n",
    "\n",
    "class Mobil(Kendaraan):\n",
    "    pass"
   ]
  },
  {
   "cell_type": "markdown",
   "metadata": {},
   "source": [
    "<p>Kemudian buat instan dan panggil fungsi&nbsp;<font color=\"blue\">berjalan()</font>:</p>"
   ]
  },
  {
   "cell_type": "code",
   "execution_count": 6,
   "metadata": {},
   "outputs": [
    {
     "name": "stdout",
     "output_type": "stream",
     "text": [
      "berjalan..\n",
      "berjalan..\n"
     ]
    }
   ],
   "source": [
    "sepeda = Kendaraan()\n",
    "sedan = Mobil()\n",
    "\n",
    "sepeda.berjalan()\n",
    "sedan.berjalan()"
   ]
  },
  {
   "cell_type": "markdown",
   "metadata": {},
   "source": [
    "<p>Jika kita perhatikan lagi output di atas: maka output-nya identik, tidak ada yang berbeda satu huruf pun. Itu karena kelas&nbsp;<font color=\"blue\">Mobil</font>&nbsp;menurunkan semua hal dari kelas&nbsp;<font color=\"blue\">Kendaraan</font>&nbsp;tanpa mengubah satu hal apa pun.</p>\n",
    "<h3 id=\"melakukan-overriding\">Melakukan Overriding</h3>\n",
    "<p>Nah, langkah berikutnya adalah kita akan melakukan&nbsp;<em>overriding</em>&nbsp;fungsi&nbsp;<font color=\"blue\">berjalan()</font>, agar aksinya menjadi berbeda ketika dipanggil dari kelas turunan yaitu kelas&nbsp;<font color=\"blue\">Mobil</font>.</p>\n",
    "<p>Ubah kode programnya menjadi seperti ini:</p>"
   ]
  },
  {
   "cell_type": "code",
   "execution_count": 8,
   "metadata": {},
   "outputs": [],
   "source": [
    "class Kendaraan:\n",
    "    def berjalan(self):\n",
    "        print('berjalan..')\n",
    "\n",
    "class Mobil(Kendaraan):\n",
    "    def berjalan(self):\n",
    "        print('Berjalan dengan cepat..')"
   ]
  },
  {
   "cell_type": "markdown",
   "metadata": {},
   "source": [
    "<h2 id=\"menambahkan-parameter-pada-fungsi-yang-ditimpa\">Menambahkan Parameter Pada Fungsi yang Ditimpa</h2>\n",
    "<p>Kita juga bisa memberikan parameter pada fungsi yang ingin kita timpa. Sebagai contoh, kita akan menambahkan 2 buah parameter untuk fungsi&nbsp;<font color=\"blue\">berjalan()</font>&nbsp;pada kelas&nbsp;<font color=\"blue\">Mobil</font>.</p>\n",
    "<p>Dua buah parameter tersebut adalah:</p>\n",
    "<ul>\n",
    "<li>kecepatan</li>\n",
    "<li>satuan kecepatan</li>\n",
    "</ul>\n",
    "<p>Berikut ini kode programnya:</p>"
   ]
  },
  {
   "cell_type": "code",
   "execution_count": 10,
   "metadata": {},
   "outputs": [],
   "source": [
    "class Kendaraan:\n",
    "    def berjalan(self):\n",
    "        print('berjalan..')\n",
    "\n",
    "class Mobil(Kendaraan):\n",
    "    def berjalan(self, kecepatan, satuan = 'km/j'):\n",
    "        print(f'Berjalan dengan kecepatan {kecepatan} {satuan}')"
   ]
  },
  {
   "cell_type": "markdown",
   "metadata": {},
   "source": [
    "<p>Jangan lupa ubah juga pemanggilan fungsi&nbsp;<font color=\"blue\">berjalan()</font>&nbsp;<br>dengan menambahkan parameter yang sesuai:</p>"
   ]
  },
  {
   "cell_type": "code",
   "execution_count": 12,
   "metadata": {},
   "outputs": [
    {
     "name": "stdout",
     "output_type": "stream",
     "text": [
      "berjalan..\n",
      "Berjalan dengan kecepatan 150 km/j\n"
     ]
    }
   ],
   "source": [
    "sepeda = Kendaraan()\n",
    "sedan = Mobil()\n",
    "\n",
    "sepeda.berjalan()\n",
    "sedan.berjalan(150)"
   ]
  },
  {
   "cell_type": "markdown",
   "metadata": {},
   "source": [
    "<h2 id=\"memanggil-fungsi-pada-kelas-induk\">Memanggil Fungsi Pada Kelas Induk</h2>\n",
    "<p>Sama seperti yang telah kita pelajari pada pertemuan sebelumnya <br>tentang&nbsp;pada materi /pewarisan /#fungsi-super__init__-atau-kelas induk__init__\"><br>fungsi super dalam konstruktor</a>&nbsp;(masih dalam bab pewarisan), <br>kita memanggil fungsi konstruktor yang terdapat pada kelas induk dari kelas turunan dengan sintaks berikut:</p>"
   ]
  },
  {
   "cell_type": "markdown",
   "metadata": {},
   "source": [
    "class KelasTurunan(KelasInduk):\n",
    "  def __init__(self):\n",
    "    super().__init__()"
   ]
  },
  {
   "cell_type": "markdown",
   "metadata": {},
   "source": [
    "<pre style=\"background-color:#f8f8f8;-moz-tab-size:4;-o-tab-size:4;tab-size:4\"><code class=\"language-py3\" data-lang=\"py3\"><span style=\"color:#204a87;font-weight:bold\">class</span> <span style=\"color:#000\">KelasTurunan</span><span style=\"color:#000;font-weight:bold\">(</span><span style=\"color:#000\">KelasInduk</span><span style=\"color:#000;font-weight:bold\">):</span>\n",
    "  <span style=\"color:#204a87;font-weight:bold\">def</span> <span style=\"color:#000\">__init__</span><span style=\"color:#000;font-weight:bold\">(</span><span style=\"color:#3465a4\">self</span><span style=\"color:#000;font-weight:bold\">):</span>\n",
    "<span style=\"display:block;width:100%;background-color:#dfdfdf\">    <span style=\"color:#204a87\">super</span><span style=\"color:#000;font-weight:bold\">()</span><span style=\"color:#ce5c00;font-weight:bold\">.</span><span style=\"color:#000\">__init__</span><span style=\"color:#000;font-weight:bold\">()</span>\n",
    "</span></code></pre>\n",
    "\n",
    "<p>Di mana sebenarnya fungsi&nbsp;<font color=\"blue\">super()</font>&nbsp;tidak khusus hanya untuk konstruktor saja, tapi kita juga bisa menggunakannya untuk memanggil fungsi selain konstruktor.</p>\n",
    "<p>Perhatikan contoh berikut:</p>"
   ]
  },
  {
   "cell_type": "code",
   "execution_count": null,
   "metadata": {},
   "outputs": [],
   "source": [
    "class Kendaraan:\n",
    "    def berjalan(self):\n",
    "        print('berjalan..')\n",
    "\n",
    "class Mobil(Kendaraan):\n",
    "    def berjalan(self, kecepatan, satuan = 'km/j'):\n",
    "        super().berjalan()\n",
    "        print(f'  -> dengan kecepatan {kecepatan} {satuan}')"
   ]
  },
  {
   "cell_type": "markdown",
   "metadata": {},
   "source": [
    "Pada kode di atas, kita telah mendefinisikan ulang fungsi&nbsp;<font color=\"blue\">berjalan()</font>&nbsp;pada kelas&nbsp;<font color=\"blue\">Mobil</font>.<BR> Tidak hanya itu, kita juga&nbsp;<strong>tetap memanggil</strong>&nbsp;fungsi yang sama yang terdapat pada kelas induknya <br>yaitu kelas&nbsp;<font color=\"blue\">Kendaraan</font>.\n",
    "\n",
    "<img src=\"img/overr.jfif\" alt=\" \" width=\"300\" height=\"600\" align=\"left\"/>"
   ]
  },
  {
   "cell_type": "markdown",
   "metadata": {},
   "source": [
    "<h2>Kesimpulan</h2>\n",
    "<p>Dari berbagai percobaan yang kita lakukan pada pertemuan ini, kita bisa simpulkan bahwa:</p>\n",
    "<ul>\n",
    "<li>Teknik&nbsp;<em>overriding</em>&nbsp;merupakan bagian dari teknik&nbsp;pewarisan</a>.</li>\n",
    "<li>Teknik&nbsp;<em>overriding</em>&nbsp;membuat kita bisa memodifikasi fungsi yang sudah didefinisikan pada kelas Induk</li>\n",
    "<li>Kita juga bisa&nbsp;<strong>mempertahankan</strong>&nbsp;fungsi asli yang terdapat pada kelas induk dengan memanggil fungsi&nbsp;<code>super()</code></li>\n",
    "</ul>"
   ]
  },
  {
   "cell_type": "code",
   "execution_count": null,
   "metadata": {},
   "outputs": [],
   "source": []
  }
 ],
 "metadata": {
  "kernelspec": {
   "display_name": "Python 3",
   "language": "python",
   "name": "python3"
  },
  "language_info": {
   "codemirror_mode": {
    "name": "ipython",
    "version": 3
   },
   "file_extension": ".py",
   "mimetype": "text/x-python",
   "name": "python",
   "nbconvert_exporter": "python",
   "pygments_lexer": "ipython3",
   "version": "3.7.6"
  },
  "widgets": {
   "application/vnd.jupyter.widget-state+json": {
    "state": {},
    "version_major": 2,
    "version_minor": 0
   }
  }
 },
 "nbformat": 4,
 "nbformat_minor": 4
}
